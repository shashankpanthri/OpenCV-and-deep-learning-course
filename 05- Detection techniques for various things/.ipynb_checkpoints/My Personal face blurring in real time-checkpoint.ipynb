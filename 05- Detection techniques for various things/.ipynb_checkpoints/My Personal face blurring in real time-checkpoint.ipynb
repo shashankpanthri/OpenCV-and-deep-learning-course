{
 "cells": [
  {
   "cell_type": "code",
   "execution_count": 1,
   "metadata": {},
   "outputs": [],
   "source": [
    "import cv2\n",
    "import numpy as np\n",
    "import matplotlib.pyplot as plt\n",
    "%matplotlib inline\n",
    "import time"
   ]
  },
  {
   "cell_type": "code",
   "execution_count": 2,
   "metadata": {},
   "outputs": [],
   "source": [
    "face_cascade = cv2.CascadeClassifier('../DATA/haarcascades/haarcascade_frontalface_default.xml')"
   ]
  },
  {
   "cell_type": "code",
   "execution_count": 3,
   "metadata": {},
   "outputs": [],
   "source": [
    "def blurring(img):\n",
    "    \n",
    "    face = img.copy()\n",
    "    \n",
    "    face_rect = face_cascade.detectMultiScale(face)\n",
    "    \n",
    "    for (x,y,w,h) in face_rect:\n",
    "        \n",
    "        x_offset = x\n",
    "        y_offset = y\n",
    "        \n",
    "        roi = face[y_offset:y_offset+h, x_offset: x_offset+w]\n",
    "        \n",
    "        roi = cv2.blur(roi, ksize=(30,30))\n",
    "        \n",
    "        face[y_offset:y_offset+h, x_offset: x_offset+w] = roi\n",
    "        \n",
    "    return face"
   ]
  },
  {
   "cell_type": "code",
   "execution_count": 5,
   "metadata": {},
   "outputs": [],
   "source": [
    "cap = cv2.VideoCapture(0)\n",
    "\n",
    "width = int(cap.get(cv2.CAP_PROP_FRAME_WIDTH))\n",
    "height = int(cap.get(cv2.CAP_PROP_FRAME_HEIGHT))\n",
    "\n",
    "writer = cv2.VideoWriter(\"Face_Blur.mp4\", cv2.VideoWriter_fourcc(*'DIVX'), 20, (width,height))\n",
    "\n",
    "while True:\n",
    "    \n",
    "    ret, frame = cap.read()\n",
    "    \n",
    "    frame = blurring(frame)\n",
    "    \n",
    "    time.sleep(1/20)\n",
    "    \n",
    "    cv2.imshow(\"Blurred_face\", frame)\n",
    "    \n",
    "    writer.write(frame)\n",
    "    \n",
    "    k = cv2.waitKey(1)\n",
    "    \n",
    "    if k == 27:\n",
    "        break\n",
    "\n",
    "cap.release()\n",
    "writer.release()\n",
    "cv2.destroyAllWindows()"
   ]
  },
  {
   "cell_type": "code",
   "execution_count": null,
   "metadata": {},
   "outputs": [],
   "source": []
  }
 ],
 "metadata": {
  "kernelspec": {
   "display_name": "Python 3",
   "language": "python",
   "name": "python3"
  },
  "language_info": {
   "codemirror_mode": {
    "name": "ipython",
    "version": 3
   },
   "file_extension": ".py",
   "mimetype": "text/x-python",
   "name": "python",
   "nbconvert_exporter": "python",
   "pygments_lexer": "ipython3",
   "version": "3.6.6"
  }
 },
 "nbformat": 4,
 "nbformat_minor": 2
}
