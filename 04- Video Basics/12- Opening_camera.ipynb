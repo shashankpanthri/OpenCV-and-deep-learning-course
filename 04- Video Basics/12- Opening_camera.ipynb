{
 "cells": [
  {
   "cell_type": "code",
   "execution_count": 1,
   "metadata": {},
   "outputs": [
    {
     "name": "stdout",
     "output_type": "stream",
     "text": [
      "-1\n"
     ]
    }
   ],
   "source": [
    "import cv2\n",
    "\n",
    "cap = cv2.VideoCapture(0)   # this will by using 0 capture the default camera plugged in the laptop\n",
    "\n",
    "width = int(cap.get(cv2.CAP_PROP_FRAME_WIDTH))    # will get the width of the screen captured by the camera\n",
    "height = int(cap.get(cv2.CAP_PROP_FRAME_HEIGHT))   # get the height\n",
    "count = int(cap.get(cv2.CAP_PROP_FRAME_COUNT))\n",
    "\n",
    "\n",
    "# to start capturing \n",
    "\n",
    "while True:\n",
    "    \n",
    "    ret, frame = cap.read()\n",
    "    \n",
    "    # for grayscale image uncomment this and pass gray on imshow\n",
    "    #gray = cv2.cvtColor(frame, cv2.COLOR_BGR2GRAY)\n",
    "    \n",
    "    cv2.imshow('frame', frame)\n",
    "    \n",
    "    if cv2.waitKey(1) & 0xFF == ord('q'):    # wait one milisecond and if pressed q then close\n",
    "        break\n",
    "        \n",
    "cap.release()\n",
    "cv2.destroyAllWindows()\n"
   ]
  },
  {
   "cell_type": "code",
   "execution_count": 4,
   "metadata": {},
   "outputs": [
    {
     "data": {
      "text/plain": [
       "-1"
      ]
     },
     "execution_count": 4,
     "metadata": {},
     "output_type": "execute_result"
    }
   ],
   "source": [
    "count"
   ]
  },
  {
   "cell_type": "markdown",
   "metadata": {},
   "source": [
    "# For also recording the video being recorded by the camera we can use a videowriter\n"
   ]
  },
  {
   "cell_type": "markdown",
   "metadata": {},
   "source": [
    "FourCC is a 4-byte code used to specify the video codec. The list of available codes can be found in fourcc.org. It is platform dependent. \n",
    "\n",
    "MORE INFO ON CODECS: https://docs.opencv.org/3.0-beta/doc/py_tutorials/py_gui/py_video_display/py_video_display.html#saving-a-video"
   ]
  },
  {
   "cell_type": "markdown",
   "metadata": {},
   "source": [
    "same code as above with some changes"
   ]
  },
  {
   "cell_type": "code",
   "execution_count": 4,
   "metadata": {},
   "outputs": [],
   "source": [
    "import cv2\n",
    "\n",
    "cap = cv2.VideoCapture(0)   # this will by using 0 capture the default camera plugged in the laptop\n",
    "\n",
    "width = int(cap.get(cv2.CAP_PROP_FRAME_WIDTH))    # will get the width of the screen captured by the camera\n",
    "height = int(cap.get(cv2.CAP_PROP_FRAME_HEIGHT))   # get the height\n",
    "\n",
    "# the parameters are:\n",
    "# the name of the file being saved, if you want to save it to a specific folder give the whole adress\n",
    "# by defualt it will be saved to where this notebook is running\n",
    "# to check where the notebook is located we can use \"pwd\" command\n",
    "\n",
    "# next we have the writer with the fourcc codec and the codec we are using is based on the system we are using\n",
    "# for windows -- *'DIVX'\n",
    "# for linux or mac -- *'VIDX'\n",
    "\n",
    "# then we have the no. of frames we want to capture per second or minute I dont remember\n",
    "\n",
    "# then the width and height of the frame size of the camera\n",
    "\n",
    "writer = cv2.VideoWriter('mysupervideo.mp4', cv2.VideoWriter_fourcc(*'DIVX'), 20, (width,height))\n",
    "\n",
    "# to start capturing \n",
    "\n",
    "while True:\n",
    "    \n",
    "    ret, frame = cap.read()\n",
    "    \n",
    "    # for grayscale image uncomment this and pass gray on imshow\n",
    "    #gray = cv2.cvtColor(frame, cv2.COLOR_BGR2GRAY)\n",
    "    \n",
    "    \n",
    "    # we can perform any operation we want here and then write it into the file\n",
    "    \n",
    "    writer.write(frame)    # this will write into the file frame by frame\n",
    "    \n",
    "    cv2.imshow('frame', frame)\n",
    "    \n",
    "    if cv2.waitKey(1) & 0xFF == ord('q'):    # wait one milisecond and if pressed q then close\n",
    "        break\n",
    "        \n",
    "cap.release()\n",
    "writer.release()\n",
    "cv2.destroyAllWindows()"
   ]
  },
  {
   "cell_type": "code",
   "execution_count": null,
   "metadata": {},
   "outputs": [],
   "source": []
  }
 ],
 "metadata": {
  "kernelspec": {
   "display_name": "Python 3",
   "language": "python",
   "name": "python3"
  },
  "language_info": {
   "codemirror_mode": {
    "name": "ipython",
    "version": 3
   },
   "file_extension": ".py",
   "mimetype": "text/x-python",
   "name": "python",
   "nbconvert_exporter": "python",
   "pygments_lexer": "ipython3",
   "version": "3.6.6"
  }
 },
 "nbformat": 4,
 "nbformat_minor": 2
}
