{
 "cells": [
  {
   "cell_type": "code",
   "execution_count": 6,
   "metadata": {},
   "outputs": [],
   "source": [
    "import cv2\n",
    "import time\n",
    "\n",
    "cap = cv2.VideoCapture('mysupervideo.mp4')\n",
    "\n",
    "width = cap.get(cv2.CAP_PROP_FRAME_WIDTH)\n",
    "height = cap.get(cv2.CAP_PROP_FRAME_HEIGHT)\n",
    "\n",
    "\n",
    "while True:\n",
    "    \n",
    "    ret, frame = cap.read()\n",
    "    \n",
    "    # if there is still something to read in the video i.e. the video has not ended\n",
    "    if ret == True:\n",
    "        \n",
    "        \n",
    "        # the computer passes through the video at a speed which is not really visible for humans so we add \n",
    "        # the time command to make the computer wait for some time before displaying all the frames\n",
    "        time.sleep(1/20)\n",
    "        \n",
    "        # now show the frames with the time delay\n",
    "        cv2.imshow('frame', frame)\n",
    "        \n",
    "        # if we want to get out of the video\n",
    "        if cv2.waitKey(1) and 0xFF == ord('q'):\n",
    "            \n",
    "            break\n",
    "    \n",
    "    # if there is no more video remaining to read then just close the loop\n",
    "    else:\n",
    "       \n",
    "        break\n",
    "        \n",
    "cap.release()\n",
    "\n",
    "cv2.destroyAllWindows()"
   ]
  },
  {
   "cell_type": "code",
   "execution_count": null,
   "metadata": {},
   "outputs": [],
   "source": []
  },
  {
   "cell_type": "code",
   "execution_count": null,
   "metadata": {},
   "outputs": [],
   "source": []
  }
 ],
 "metadata": {
  "kernelspec": {
   "display_name": "Python 3",
   "language": "python",
   "name": "python3"
  },
  "language_info": {
   "codemirror_mode": {
    "name": "ipython",
    "version": 3
   },
   "file_extension": ".py",
   "mimetype": "text/x-python",
   "name": "python",
   "nbconvert_exporter": "python",
   "pygments_lexer": "ipython3",
   "version": "3.6.6"
  }
 },
 "nbformat": 4,
 "nbformat_minor": 2
}
