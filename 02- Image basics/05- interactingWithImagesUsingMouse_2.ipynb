{
 "cells": [
  {
   "cell_type": "code",
   "execution_count": 8,
   "metadata": {},
   "outputs": [],
   "source": [
    "import numpy as np\n",
    "import cv2\n",
    "\n",
    "#drawing is true when mouse click is down, false when mouse click is up\n",
    "#VARIBLES\n",
    "drawing = False\n",
    "x1,y1 = -1,-1\n",
    "\n",
    "\n",
    "#FUNCTION\n",
    "def draw_rectangle(event,x,y,flags,param):\n",
    "    \n",
    "    global drawing,x1,y1\n",
    "    \n",
    "    if event == cv2.EVENT_LBUTTONDOWN:\n",
    "        drawing = True\n",
    "        x1,y1=x,y\n",
    "    elif event == cv2.EVENT_MOUSEMOVE:\n",
    "        if drawing == True:\n",
    "            cv2.rectangle(img,(x1,y1),(x,y),(255,0,0),-1)\n",
    "    elif event == cv2.EVENT_LBUTTONUP:\n",
    "        drawing = False\n",
    "        cv2.rectangle(img,(x1,y1),(x,y),(255,0,0),-1)\n",
    "\n",
    "\n",
    "##FOR FUN CHANGE THE THICKNESS OF THE RECTANGLES TO BE MADE AND THEY WILL BECOME INDIVISUAL RECTANGLE ALONG THE PATH OF THE MOUSE\n",
    "\n",
    "#OPENING THE IMAGE\n",
    "\n",
    "#BLACK IMAGE\n",
    "img = np.zeros((800,800,3))\n",
    "\n",
    "cv2.namedWindow(winname='myDrawing')\n",
    "\n",
    "cv2.setMouseCallback('myDrawing', draw_rectangle)\n",
    "\n",
    "while True:\n",
    "    \n",
    "    cv2.imshow('myDrawing', img)\n",
    "    \n",
    "    # press esc key\n",
    "    if cv2.waitKey(1) & 0xFF == 27:\n",
    "        break\n",
    "\n",
    "cv2.destroyAllWindows()"
   ]
  },
  {
   "cell_type": "code",
   "execution_count": null,
   "metadata": {},
   "outputs": [],
   "source": []
  }
 ],
 "metadata": {
  "kernelspec": {
   "display_name": "Python 3",
   "language": "python",
   "name": "python3"
  },
  "language_info": {
   "codemirror_mode": {
    "name": "ipython",
    "version": 3
   },
   "file_extension": ".py",
   "mimetype": "text/x-python",
   "name": "python",
   "nbconvert_exporter": "python",
   "pygments_lexer": "ipython3",
   "version": "3.7.1"
  }
 },
 "nbformat": 4,
 "nbformat_minor": 2
}
